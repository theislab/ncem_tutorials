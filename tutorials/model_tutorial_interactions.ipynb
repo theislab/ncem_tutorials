{
 "cells": [
  {
   "cell_type": "code",
   "execution_count": 1,
   "id": "e97becd0",
   "metadata": {},
   "outputs": [],
   "source": [
    "%load_ext autoreload\n",
    "%autoreload 2\n",
    "\n",
    "import ncem\n",
    "import numpy as np\n",
    "import seaborn as sns\n",
    "\n",
    "from scipy.stats import ttest_rel, ttest_ind\n",
    "\n",
    "sns.set_palette(\"colorblind\")"
   ]
  },
  {
   "cell_type": "code",
   "execution_count": 2,
   "id": "69fe3f9f",
   "metadata": {},
   "outputs": [],
   "source": [
    "# paths\n",
    "data_path_base =\"./data/\"\n",
    "out_path = \"./tutorial/\"\n",
    "fn_out_cv = out_path + \"/results/\""
   ]
  },
  {
   "cell_type": "markdown",
   "id": "0db379ca",
   "metadata": {},
   "source": [
    "# Dataset specific inputs"
   ]
  },
  {
   "cell_type": "code",
   "execution_count": 3,
   "id": "dbb940bb",
   "metadata": {},
   "outputs": [],
   "source": [
    "data_set = 'zhang'\n",
    "data_path = data_path_base + '/zhang/'\n",
    "log_transform = False\n",
    "use_domain = True\n",
    "scale_node_size=False\n",
    "merge_node_types_predefined = True\n",
    "covar_selection = []\n",
    "output_layer='linear'\n",
    "\n"
   ]
  },
  {
   "cell_type": "markdown",
   "id": "2cc853e7",
   "metadata": {},
   "source": [
    "# Manual inputs"
   ]
  },
  {
   "cell_type": "code",
   "execution_count": 4,
   "id": "8811af96",
   "metadata": {},
   "outputs": [],
   "source": [
    "model_class = 'interactions'\n",
    "optimizer = 'adam'\n",
    "domain_type = 'patient'\n",
    "\n",
    "learning_rate = 0.05\n",
    "l1 = 0.\n",
    "l2 = 0.\n",
    "\n",
    "batch_size = 64\n",
    "radius = 100\n",
    "n_eval_nodes = 10\n",
    "\n",
    "gs_id = f\"tutorial_{model_class}_{radius}_{data_set}_{domain_type}\""
   ]
  },
  {
   "cell_type": "markdown",
   "id": "fe244c7d",
   "metadata": {},
   "source": [
    "# Model and training"
   ]
  },
  {
   "cell_type": "code",
   "execution_count": 5,
   "id": "6ebc6ac2",
   "metadata": {},
   "outputs": [],
   "source": [
    "ncv = 3\n",
    "epochs = 2000 if \"tutorial\" not in gs_id else 10 \n",
    "epochs_warmup = 0\n",
    "max_steps_per_epoch = 20\n",
    "patience = 100\n",
    "lr_schedule_min_lr = 1e-10\n",
    "lr_schedule_factor = 0.5\n",
    "lr_schedule_patience = 50\n",
    "val_bs = 16\n",
    "max_val_steps_per_epoch = 10\n",
    "shuffle_buffer_size = None\n",
    "\n",
    "feature_space_id = \"standard\"\n",
    "cond_feature_space_id = \"type\"\n",
    "\n",
    "use_covar_node_label = False\n",
    "use_covar_node_position = False\n",
    "use_covar_graph_covar = False"
   ]
  },
  {
   "cell_type": "code",
   "execution_count": 6,
   "id": "4cd3b208",
   "metadata": {},
   "outputs": [],
   "source": [
    "trainer = ncem.train.TrainModelInteractions()"
   ]
  },
  {
   "cell_type": "code",
   "execution_count": 7,
   "id": "3e1a16d0",
   "metadata": {},
   "outputs": [],
   "source": [
    "trainer.init_estim(log_transform=log_transform)"
   ]
  },
  {
   "cell_type": "code",
   "execution_count": 8,
   "id": "f2d238f5",
   "metadata": {},
   "outputs": [
    {
     "name": "stdout",
     "output_type": "stream",
     "text": [
      "Loading data from raw files\n",
      "registering celldata\n"
     ]
    },
    {
     "name": "stderr",
     "output_type": "stream",
     "text": [
      "/home/icb/anna.schaar/miniconda3/lib/python3.8/site-packages/anndata/_core/anndata.py:1094: FutureWarning: is_categorical is deprecated and will be removed in a future version.  Use is_categorical_dtype instead\n",
      "  if not is_categorical(df_full[k]):\n",
      "/home/icb/anna.schaar/miniconda3/lib/python3.8/site-packages/pandas/core/arrays/categorical.py:2487: FutureWarning: The `inplace` parameter in pandas.Categorical.remove_unused_categories is deprecated and will be removed in a future version.\n",
      "  res = method(*args, **kwargs)\n"
     ]
    },
    {
     "name": "stdout",
     "output_type": "stream",
     "text": [
      "collecting image-wise celldata\n"
     ]
    },
    {
     "name": "stderr",
     "output_type": "stream",
     "text": [
      "  5%|▍         | 3/64 [00:00<00:02, 24.62it/s]"
     ]
    },
    {
     "name": "stdout",
     "output_type": "stream",
     "text": [
      "adding graph-level covariates\n"
     ]
    },
    {
     "name": "stderr",
     "output_type": "stream",
     "text": [
      "100%|██████████| 64/64 [00:03<00:00, 20.58it/s]\n"
     ]
    },
    {
     "name": "stdout",
     "output_type": "stream",
     "text": [
      "Loaded 64 images with complete data from 2 patients over 280327 cells with 254 cell features and 25 distinct celltypes.\n",
      "Mean of mean node degree per images across images: 40.670611\n"
     ]
    }
   ],
   "source": [
    "trainer = ncem.train.TrainModelInteractions()\n",
    "trainer.init_estim(log_transform=log_transform)\n",
    "\n",
    "trainer.estimator.get_data(\n",
    "    data_origin=data_set,\n",
    "    data_path=data_path,\n",
    "    radius=radius,\n",
    "    graph_covar_selection=covar_selection,\n",
    "    node_label_space_id=cond_feature_space_id,\n",
    "    node_feature_space_id=feature_space_id,\n",
    "    # feature_transformation=transformation_dict[transform_key],\n",
    "    use_covar_node_position=use_covar_node_position,\n",
    "    use_covar_node_label=use_covar_node_label,\n",
    "    use_covar_graph_covar=use_covar_graph_covar,\n",
    "    # hold_out_covariate=hold_out_covariate,\n",
    "    domain_type=domain_type,\n",
    "    # merge_node_types_predefined=merge_node_types_predefined,\n",
    ")"
   ]
  },
  {
   "cell_type": "code",
   "execution_count": 9,
   "id": "684bce6e",
   "metadata": {},
   "outputs": [
    {
     "name": "stdout",
     "output_type": "stream",
     "text": [
      "Using split method: node. \n",
      " Train-test-validation split is based on total number of nodes per patients over all images.\n",
      "\n",
      "Excluded 3771 cells with the following unannotated cell type: [['other']] \n",
      "\n",
      "Whole dataset: 280327 cells out of 64 images from 2 patients.\n",
      "Test dataset: 27657 cells out of 64 images from 2 patients.\n",
      "Training dataset: 225156 cells out of 64 images from 2 patients.\n",
      "Validation dataset: 24889 cells out of 64 images from 2 patients. \n",
      "\n"
     ]
    }
   ],
   "source": [
    "trainer.estimator.split_data_node(\n",
    "    validation_split=0.1,\n",
    "    test_split=0.1,\n",
    "    seed=0\n",
    ")"
   ]
  },
  {
   "cell_type": "code",
   "execution_count": 10,
   "id": "2b1741a9",
   "metadata": {},
   "outputs": [
    {
     "name": "stdout",
     "output_type": "stream",
     "text": [
      "Model: \"interaction_linear_model\"\n",
      "__________________________________________________________________________________________________\n",
      "Layer (type)                    Output Shape         Param #     Connected to                     \n",
      "==================================================================================================\n",
      "input_da_group (InputLayer)     [(None, 2)]          0                                            \n",
      "__________________________________________________________________________________________________\n",
      "tf.cast (TFOpLambda)            (None, 2)            0           input_da_group[0][0]             \n",
      "__________________________________________________________________________________________________\n",
      "tf.expand_dims (TFOpLambda)     (None, 1, 2)         0           tf.cast[0][0]                    \n",
      "__________________________________________________________________________________________________\n",
      "interaction (InputLayer)        [(None, 10, 625)]    0                                            \n",
      "__________________________________________________________________________________________________\n",
      "categorical_predictor (InputLay [(None, 10, 0)]      0                                            \n",
      "__________________________________________________________________________________________________\n",
      "tf.tile (TFOpLambda)            (None, 10, 2)        0           tf.expand_dims[0][0]             \n",
      "__________________________________________________________________________________________________\n",
      "target (InputLayer)             [(None, 10, 25)]     0                                            \n",
      "__________________________________________________________________________________________________\n",
      "denseinteraction (DenseInteract (None, 10, 625)      0           interaction[0][0]                \n",
      "__________________________________________________________________________________________________\n",
      "tf.concat (TFOpLambda)          (None, 10, 2)        0           categorical_predictor[0][0]      \n",
      "                                                                 tf.tile[0][0]                    \n",
      "__________________________________________________________________________________________________\n",
      "tf.concat_1 (TFOpLambda)        (None, 10, 652)      0           target[0][0]                     \n",
      "                                                                 denseinteraction[0][0]           \n",
      "                                                                 tf.concat[0][0]                  \n",
      "__________________________________________________________________________________________________\n",
      "tf.reshape (TFOpLambda)         (None, 652)          0           tf.concat_1[0][0]                \n",
      "__________________________________________________________________________________________________\n",
      "LinearLayer (Dense)             (None, 254)          165862      tf.reshape[0][0]                 \n",
      "__________________________________________________________________________________________________\n",
      "tf.reshape_1 (TFOpLambda)       (None, 10, 254)      0           LinearLayer[0][0]                \n",
      "__________________________________________________________________________________________________\n",
      "node_size_reconstruct (InputLay [(None, 10, 1)]      0                                            \n",
      "__________________________________________________________________________________________________\n",
      "LinearOutput (LinearOutput)     [(None, 10, 254), (N 254         tf.reshape_1[0][0]               \n",
      "                                                                 node_size_reconstruct[0][0]      \n",
      "__________________________________________________________________________________________________\n",
      "reconstruction (Concatenate)    (None, 10, 508)      0           LinearOutput[0][0]               \n",
      "                                                                 LinearOutput[0][1]               \n",
      "==================================================================================================\n",
      "Total params: 166,116\n",
      "Trainable params: 166,116\n",
      "Non-trainable params: 0\n",
      "__________________________________________________________________________________________________\n"
     ]
    }
   ],
   "source": [
    "trainer.estimator.init_model(\n",
    "    optimizer=optimizer,\n",
    "    learning_rate=learning_rate,\n",
    "    n_eval_nodes_per_graph=n_eval_nodes,\n",
    "\n",
    "    l2_coef=l2,\n",
    "    l1_coef=l1,\n",
    "    use_interactions=True,\n",
    "    use_domain=use_domain,\n",
    "    scale_node_size=scale_node_size,\n",
    "    output_layer=output_layer,\n",
    ")\n",
    "trainer.estimator.model.training_model.summary()"
   ]
  },
  {
   "cell_type": "code",
   "execution_count": 11,
   "id": "47675360",
   "metadata": {
    "scrolled": false
   },
   "outputs": [
    {
     "name": "stdout",
     "output_type": "stream",
     "text": [
      "Epoch 1/10\n",
      "1/1 - 11s - loss: 919.0958 - custom_mae: 1.2895 - custom_mean_sd: 1.0000 - custom_mse: 5.3991 - custom_mse_scaled: 5.3991 - gaussian_reconstruction_loss: 919.0958 - r_squared: -3.7745e-01 - r_squared_linreg: 6.7922e-04 - val_loss: 732.7539 - val_custom_mae: 1.3727 - val_custom_mean_sd: 1.0367 - val_custom_mse: 4.2453 - val_custom_mse_scaled: 3.8610 - val_gaussian_reconstruction_loss: 732.7539 - val_r_squared: -8.4634e-02 - val_r_squared_linreg: 0.0380\n",
      "Epoch 2/10\n",
      "1/1 - 5s - loss: 734.0692 - custom_mae: 1.3753 - custom_mean_sd: 1.0367 - custom_mse: 4.2553 - custom_mse_scaled: 3.8713 - gaussian_reconstruction_loss: 734.0692 - r_squared: -8.7996e-02 - r_squared_linreg: 0.0388 - val_loss: 622.5869 - val_custom_mae: 1.3536 - val_custom_mean_sd: 1.0733 - val_custom_mse: 3.5152 - val_custom_mse_scaled: 2.9271 - val_gaussian_reconstruction_loss: 622.5868 - val_r_squared: 0.1003 - val_r_squared_linreg: 0.1829\n",
      "Epoch 3/10\n",
      "1/1 - 5s - loss: 622.2020 - custom_mae: 1.3556 - custom_mean_sd: 1.0733 - custom_mse: 3.5141 - custom_mse_scaled: 2.9241 - gaussian_reconstruction_loss: 622.2020 - r_squared: 0.1016 - r_squared_linreg: 0.1799 - val_loss: 553.9893 - val_custom_mae: 1.2985 - val_custom_mean_sd: 1.1093 - val_custom_mse: 3.0308 - val_custom_mse_scaled: 2.3257 - val_gaussian_reconstruction_loss: 553.9893 - val_r_squared: 0.2274 - val_r_squared_linreg: 0.2659\n",
      "Epoch 4/10\n",
      "1/1 - 5s - loss: 556.4056 - custom_mae: 1.2983 - custom_mean_sd: 1.1093 - custom_mse: 3.0523 - custom_mse_scaled: 2.3447 - gaussian_reconstruction_loss: 556.4056 - r_squared: 0.2216 - r_squared_linreg: 0.2645 - val_loss: 514.1862 - val_custom_mae: 1.2346 - val_custom_mean_sd: 1.1448 - val_custom_mse: 2.7392 - val_custom_mse_scaled: 1.9548 - val_gaussian_reconstruction_loss: 514.1862 - val_r_squared: 0.3061 - val_r_squared_linreg: 0.3180\n",
      "Epoch 5/10\n",
      "1/1 - 4s - loss: 512.5111 - custom_mae: 1.2304 - custom_mean_sd: 1.1448 - custom_mse: 2.7185 - custom_mse_scaled: 1.9416 - gaussian_reconstruction_loss: 512.5111 - r_squared: 0.3058 - r_squared_linreg: 0.3133 - val_loss: 486.6950 - val_custom_mae: 1.1596 - val_custom_mean_sd: 1.1784 - val_custom_mse: 2.5258 - val_custom_mse_scaled: 1.6868 - val_gaussian_reconstruction_loss: 486.6949 - val_r_squared: 0.3570 - val_r_squared_linreg: 0.3580\n",
      "Epoch 6/10\n",
      "1/1 - 4s - loss: 488.0463 - custom_mae: 1.1569 - custom_mean_sd: 1.1784 - custom_mse: 2.5409 - custom_mse_scaled: 1.6975 - gaussian_reconstruction_loss: 488.0463 - r_squared: 0.3511 - r_squared_linreg: 0.3513 - val_loss: 473.7760 - val_custom_mae: 1.0989 - val_custom_mean_sd: 1.2102 - val_custom_mse: 2.4363 - val_custom_mse_scaled: 1.5389 - val_gaussian_reconstruction_loss: 473.7760 - val_r_squared: 0.3786 - val_r_squared_linreg: 0.3803\n",
      "Epoch 7/10\n",
      "1/1 - 5s - loss: 471.1431 - custom_mae: 1.0979 - custom_mean_sd: 1.2102 - custom_mse: 2.4089 - custom_mse_scaled: 1.5182 - gaussian_reconstruction_loss: 471.1431 - r_squared: 0.3877 - r_squared_linreg: 0.3893 - val_loss: 460.8216 - val_custom_mae: 1.0470 - val_custom_mean_sd: 1.2400 - val_custom_mse: 2.3342 - val_custom_mse_scaled: 1.3958 - val_gaussian_reconstruction_loss: 460.8216 - val_r_squared: 0.4007 - val_r_squared_linreg: 0.4122\n",
      "Epoch 8/10\n",
      "1/1 - 5s - loss: 463.3223 - custom_mae: 1.0580 - custom_mean_sd: 1.2400 - custom_mse: 2.3624 - custom_mse_scaled: 1.4154 - gaussian_reconstruction_loss: 463.3223 - r_squared: 0.3975 - r_squared_linreg: 0.4093 - val_loss: 455.1150 - val_custom_mae: 1.0253 - val_custom_mean_sd: 1.2682 - val_custom_mse: 2.3012 - val_custom_mse_scaled: 1.3134 - val_gaussian_reconstruction_loss: 455.1151 - val_r_squared: 0.4113 - val_r_squared_linreg: 0.4326\n",
      "Epoch 9/10\n",
      "1/1 - 5s - loss: 460.6027 - custom_mae: 1.0491 - custom_mean_sd: 1.2682 - custom_mse: 2.3733 - custom_mse_scaled: 1.3566 - gaussian_reconstruction_loss: 460.6027 - r_squared: 0.3943 - r_squared_linreg: 0.4154 - val_loss: 452.4044 - val_custom_mae: 1.0055 - val_custom_mean_sd: 1.2951 - val_custom_mse: 2.2822 - val_custom_mse_scaled: 1.2574 - val_gaussian_reconstruction_loss: 452.4044 - val_r_squared: 0.4171 - val_r_squared_linreg: 0.4482\n",
      "Epoch 10/10\n",
      "1/1 - 4s - loss: 454.9735 - custom_mae: 1.0214 - custom_mean_sd: 1.2951 - custom_mse: 2.3392 - custom_mse_scaled: 1.2776 - gaussian_reconstruction_loss: 454.9735 - r_squared: 0.4077 - r_squared_linreg: 0.4400 - val_loss: 454.9436 - val_custom_mae: 1.0117 - val_custom_mean_sd: 1.3203 - val_custom_mse: 2.3634 - val_custom_mse_scaled: 1.2459 - val_gaussian_reconstruction_loss: 454.9437 - val_r_squared: 0.3986 - val_r_squared_linreg: 0.4473\n"
     ]
    }
   ],
   "source": [
    "trainer.estimator.train(\n",
    "    epochs=epochs,\n",
    "    epochs_warmup=epochs_warmup,\n",
    "    batch_size=batch_size,\n",
    "    max_steps_per_epoch=max_steps_per_epoch,\n",
    "    validation_batch_size=val_bs,\n",
    "    max_validation_steps=max_val_steps_per_epoch,\n",
    "    patience=patience,\n",
    "    lr_schedule_min_lr=lr_schedule_min_lr,\n",
    "    lr_schedule_factor=lr_schedule_factor,\n",
    "    lr_schedule_patience=lr_schedule_patience,\n",
    "    monitor_partition=\"val\",\n",
    "    monitor_metric=\"loss\",\n",
    "    shuffle_buffer_size=shuffle_buffer_size,\n",
    "    early_stopping=True,\n",
    "    reduce_lr_plateau=True,\n",
    ")"
   ]
  },
  {
   "cell_type": "code",
   "execution_count": 15,
   "id": "f4e5c250",
   "metadata": {},
   "outputs": [
    {
     "name": "stdout",
     "output_type": "stream",
     "text": [
      "2734/2734 - 92s - loss: 454.0515 - custom_mae: 1.0095 - custom_mean_sd: 1.3203 - custom_mse: 2.3447 - custom_mse_scaled: 1.2388 - gaussian_reconstruction_loss: 454.0508 - r_squared: 0.3991 - r_squared_linreg: 0.4526\n"
     ]
    }
   ],
   "source": [
    "evaluation_test = trainer.estimator.evaluate_any(\n",
    "    img_keys=trainer.estimator.img_keys_test,\n",
    "    node_idx=trainer.estimator.nodes_idx_test\n",
    ")"
   ]
  },
  {
   "cell_type": "code",
   "execution_count": 16,
   "id": "a3355150",
   "metadata": {},
   "outputs": [
    {
     "name": "stdout",
     "output_type": "stream",
     "text": [
      "Evaluation for Astrocytes with 22879 cells\n",
      "{'loss': 440.73388671875, 'custom_mae': 0.8678698539733887, 'custom_mean_sd': 1.3203126192092896, 'custom_mse': 2.258192300796509, 'custom_mse_scaled': 1.133967399597168, 'gaussian_reconstruction_loss': 440.7337341308594, 'r_squared': 0.3545365631580353, 'r_squared_linreg': 0.3949345350265503}\n",
      "Evaluation for Endothelial with 20335 cells\n",
      "{'loss': 412.3866271972656, 'custom_mae': 0.7204565405845642, 'custom_mean_sd': 1.3203126192092896, 'custom_mse': 1.8185585737228394, 'custom_mse_scaled': 0.910759687423706, 'gaussian_reconstruction_loss': 412.3864440917969, 'r_squared': 0.34632834792137146, 'r_squared_linreg': 0.3763602077960968}\n",
      "Evaluation for L2/3 IT with 41996 cells\n",
      "{'loss': 459.06640625, 'custom_mae': 1.073946237564087, 'custom_mean_sd': 1.3203126192092896, 'custom_mse': 2.3879148960113525, 'custom_mse_scaled': 1.2783193588256836, 'gaussian_reconstruction_loss': 459.0669250488281, 'r_squared': 0.4308493435382843, 'r_squared_linreg': 0.4747598469257355}\n",
      "Evaluation for L4/5 IT with 34901 cells\n",
      "{'loss': 470.41986083984375, 'custom_mae': 1.117315411567688, 'custom_mean_sd': 1.3203126192092896, 'custom_mse': 2.5957469940185547, 'custom_mse_scaled': 1.3677176237106323, 'gaussian_reconstruction_loss': 470.42071533203125, 'r_squared': 0.3752611577510834, 'r_squared_linreg': 0.4388224184513092}\n",
      "Evaluation for L5 IT with 19585 cells\n",
      "{'loss': 466.9457092285156, 'custom_mae': 1.0996404886245728, 'custom_mean_sd': 1.3203126192092896, 'custom_mse': 2.5085904598236084, 'custom_mse_scaled': 1.3403565883636475, 'gaussian_reconstruction_loss': 466.9455871582031, 'r_squared': 0.37925150990486145, 'r_squared_linreg': 0.46472784876823425}\n",
      "Evaluation for L5 PT with 8320 cells\n",
      "{'loss': 465.8150329589844, 'custom_mae': 1.0783231258392334, 'custom_mean_sd': 1.3203126192092896, 'custom_mse': 2.440788984298706, 'custom_mse_scaled': 1.3314571380615234, 'gaussian_reconstruction_loss': 465.8155517578125, 'r_squared': 0.3991018533706665, 'r_squared_linreg': 0.5134291648864746}\n",
      "Evaluation for L5/6 NP with 3896 cells\n",
      "{'loss': 438.3881530761719, 'custom_mae': 0.992788553237915, 'custom_mean_sd': 1.3203126192092896, 'custom_mse': 2.070939302444458, 'custom_mse_scaled': 1.1154963970184326, 'gaussian_reconstruction_loss': 438.3882141113281, 'r_squared': 0.48479533195495605, 'r_squared_linreg': 0.5133277177810669}\n",
      "Evaluation for L6 CT with 26278 cells\n",
      "{'loss': 463.4722595214844, 'custom_mae': 1.0505753755569458, 'custom_mean_sd': 1.3203126192092896, 'custom_mse': 2.4637911319732666, 'custom_mse_scaled': 1.3130117654800415, 'gaussian_reconstruction_loss': 463.4723815917969, 'r_squared': 0.4115202724933624, 'r_squared_linreg': 0.47506284713745117}\n",
      "Evaluation for L6 IT with 15598 cells\n",
      "{'loss': 467.82781982421875, 'custom_mae': 1.111241340637207, 'custom_mean_sd': 1.3203126192092896, 'custom_mse': 2.498598575592041, 'custom_mse_scaled': 1.3473050594329834, 'gaussian_reconstruction_loss': 467.82806396484375, 'r_squared': 0.39211782813072205, 'r_squared_linreg': 0.4733026623725891}\n",
      "Evaluation for L6 IT Car3 with 1827 cells\n",
      "{'loss': 455.3013610839844, 'custom_mae': 1.1381648778915405, 'custom_mean_sd': 1.3203126192092896, 'custom_mse': 2.277988910675049, 'custom_mse_scaled': 1.2486705780029297, 'gaussian_reconstruction_loss': 455.3013610839844, 'r_squared': 0.42854058742523193, 'r_squared_linreg': 0.4570315182209015}\n",
      "Evaluation for L6b with 3500 cells\n",
      "{'loss': 453.6837158203125, 'custom_mae': 1.054693579673767, 'custom_mean_sd': 1.3203126192092896, 'custom_mse': 2.225739002227783, 'custom_mse_scaled': 1.235935091972351, 'gaussian_reconstruction_loss': 453.6839904785156, 'r_squared': 0.4350806772708893, 'r_squared_linreg': 0.4675196707248688}\n",
      "Evaluation for Lamp5 with 3156 cells\n",
      "{'loss': 471.3758850097656, 'custom_mae': 1.1419994831085205, 'custom_mean_sd': 1.3203126192092896, 'custom_mse': 2.397238254547119, 'custom_mse_scaled': 1.3752416372299194, 'gaussian_reconstruction_loss': 471.37603759765625, 'r_squared': 0.40653055906295776, 'r_squared_linreg': 0.43211257457733154}\n",
      "Evaluation for Microglia with 8078 cells\n",
      "{'loss': 444.53173828125, 'custom_mae': 0.8841626048088074, 'custom_mean_sd': 1.3203126192092896, 'custom_mse': 2.230652332305908, 'custom_mse_scaled': 1.163869857788086, 'gaussian_reconstruction_loss': 444.5319519042969, 'r_squared': 0.2084536999464035, 'r_squared_linreg': 0.2759746313095093}\n",
      "Evaluation for OPC with 6137 cells\n",
      "{'loss': 466.5922546386719, 'custom_mae': 1.0808005332946777, 'custom_mean_sd': 1.3203126192092896, 'custom_mse': 2.5889699459075928, 'custom_mse_scaled': 1.337575078010559, 'gaussian_reconstruction_loss': 466.5924072265625, 'r_squared': 0.3326451778411865, 'r_squared_linreg': 0.38859179615974426}\n",
      "Evaluation for Oligodendrocytes with 21196 cells\n",
      "{'loss': 422.1546936035156, 'custom_mae': 0.8272475004196167, 'custom_mean_sd': 1.3203126192092896, 'custom_mse': 1.9531877040863037, 'custom_mse_scaled': 0.9876759052276611, 'gaussian_reconstruction_loss': 422.15460205078125, 'r_squared': 0.44629886746406555, 'r_squared_linreg': 0.4723290503025055}\n",
      "Evaluation for PVM with 5345 cells\n",
      "{'loss': 450.1713562011719, 'custom_mae': 0.9674404263496399, 'custom_mean_sd': 1.3203126192092896, 'custom_mse': 2.274384021759033, 'custom_mse_scaled': 1.2082775831222534, 'gaussian_reconstruction_loss': 450.171630859375, 'r_squared': 0.26636451482772827, 'r_squared_linreg': 0.3284546732902527}\n",
      "Evaluation for Pericytes with 7206 cells\n",
      "{'loss': 426.23138427734375, 'custom_mae': 0.8614138960838318, 'custom_mean_sd': 1.3203126192092896, 'custom_mse': 1.9429216384887695, 'custom_mse_scaled': 1.0197745561599731, 'gaussian_reconstruction_loss': 426.2313232421875, 'r_squared': 0.35882699489593506, 'r_squared_linreg': 0.4045815169811249}\n",
      "Evaluation for Pvalb with 7682 cells\n",
      "{'loss': 457.56024169921875, 'custom_mae': 1.0633388757705688, 'custom_mean_sd': 1.3203126192092896, 'custom_mse': 2.2976393699645996, 'custom_mse_scaled': 1.2664566040039062, 'gaussian_reconstruction_loss': 457.5601501464844, 'r_squared': 0.43812301754951477, 'r_squared_linreg': 0.5041957497596741}\n",
      "Evaluation for SMC with 4246 cells\n",
      "{'loss': 452.53887939453125, 'custom_mae': 1.005250334739685, 'custom_mean_sd': 1.3203126192092896, 'custom_mse': 2.273864507675171, 'custom_mse_scaled': 1.2269182205200195, 'gaussian_reconstruction_loss': 452.5389709472656, 'r_squared': 0.3512091040611267, 'r_squared_linreg': 0.39737895131111145}\n",
      "Evaluation for Sncg with 348 cells\n",
      "{'loss': 503.2383117675781, 'custom_mae': 1.3029121160507202, 'custom_mean_sd': 1.3203126192092896, 'custom_mse': 2.715601921081543, 'custom_mse_scaled': 1.6261273622512817, 'gaussian_reconstruction_loss': 503.23834228515625, 'r_squared': 0.30158719420433044, 'r_squared_linreg': 0.33720144629478455}\n",
      "Evaluation for Sst with 3954 cells\n",
      "{'loss': 469.1092834472656, 'custom_mae': 1.1356596946716309, 'custom_mean_sd': 1.3203126192092896, 'custom_mse': 2.4950993061065674, 'custom_mse_scaled': 1.3573962450027466, 'gaussian_reconstruction_loss': 469.109375, 'r_squared': 0.39531123638153076, 'r_squared_linreg': 0.46489056944847107}\n",
      "Evaluation for Sst Chodl with 239 cells\n",
      "{'loss': 501.3443908691406, 'custom_mae': 1.3066010475158691, 'custom_mean_sd': 1.3203126192092896, 'custom_mse': 2.8522679805755615, 'custom_mse_scaled': 1.6112146377563477, 'gaussian_reconstruction_loss': 501.3443908691406, 'r_squared': 0.2416706085205078, 'r_squared_linreg': 0.27692222595214844}\n",
      "Evaluation for VLMC with 6923 cells\n",
      "{'loss': 454.537353515625, 'custom_mae': 1.0250638723373413, 'custom_mean_sd': 1.3203126192092896, 'custom_mse': 2.3865041732788086, 'custom_mse_scaled': 1.2426564693450928, 'gaussian_reconstruction_loss': 454.537353515625, 'r_squared': 0.31865260004997253, 'r_squared_linreg': 0.34423545002937317}\n",
      "Evaluation for Vip with 2931 cells\n",
      "{'loss': 514.3701782226562, 'custom_mae': 1.3086588382720947, 'custom_mean_sd': 1.3203126192092896, 'custom_mse': 3.0318281650543213, 'custom_mse_scaled': 1.7137806415557861, 'gaussian_reconstruction_loss': 514.3701782226562, 'r_squared': 0.269014835357666, 'r_squared_linreg': 0.3598734140396118}\n",
      "Evaluation for other with 3771 cells\n",
      "{'loss': 589.84423828125, 'custom_mae': 1.3718920946121216, 'custom_mean_sd': 1.3203126192092896, 'custom_mse': 4.449624538421631, 'custom_mse_scaled': 2.3080637454986572, 'gaussian_reconstruction_loss': 589.8441162109375, 'r_squared': -0.11887814849615097, 'r_squared_linreg': 0.06292352080345154}\n"
     ]
    }
   ],
   "source": [
    "split_per_node_type, evaluation_per_node_type = trainer.estimator.evaluate_per_node_type()"
   ]
  }
 ],
 "metadata": {
  "kernelspec": {
   "display_name": "Python 3",
   "language": "python",
   "name": "python3"
  },
  "language_info": {
   "codemirror_mode": {
    "name": "ipython",
    "version": 3
   },
   "file_extension": ".py",
   "mimetype": "text/x-python",
   "name": "python",
   "nbconvert_exporter": "python",
   "pygments_lexer": "ipython3",
   "version": "3.8.3"
  }
 },
 "nbformat": 4,
 "nbformat_minor": 5
}
